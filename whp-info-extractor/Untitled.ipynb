{
 "cells": [
  {
   "cell_type": "code",
   "execution_count": 10,
   "metadata": {},
   "outputs": [
    {
     "name": "stdout",
     "output_type": "stream",
     "text": [
      "Enter whatsapp group url: https://chat.whatsapp.com/invite/DNra0uNU5vaLmTb1ZcBSa6\n",
      "Process Completed successfully\n"
     ]
    }
   ],
   "source": [
    "import requests\n",
    "import bs4 as bs\n",
    "wurl = input(\"Enter whatsapp group url: \")\n",
    "r = requests.get(wurl)\n",
    "soup = bs.BeautifulSoup(r.text,'lxml')\n",
    "metas = soup.find_all('meta')\n",
    "gtitle = metas[3][\"content\"]\n",
    "imgurl = metas[4][\"content\"]\n",
    "\n",
    "i = requests.get(imgurl)\n",
    "with open(\"./data/\"+gtitle+\".png\",'wb') as f:\n",
    "    f.write(i.content)\n",
    "    f.close()\n",
    "\n",
    "with open(\"./data/\"+\"groupname.txt\",'a') as f:\n",
    "    f.write(gtitle+\"\\n\")\n",
    "    f.close()\n",
    "print(\"Process Completed successfully\")\n"
   ]
  },
  {
   "cell_type": "code",
   "execution_count": null,
   "metadata": {},
   "outputs": [],
   "source": []
  }
 ],
 "metadata": {
  "kernelspec": {
   "display_name": "Python 3",
   "language": "python",
   "name": "python3"
  },
  "language_info": {
   "codemirror_mode": {
    "name": "ipython",
    "version": 3
   },
   "file_extension": ".py",
   "mimetype": "text/x-python",
   "name": "python",
   "nbconvert_exporter": "python",
   "pygments_lexer": "ipython3",
   "version": "3.7.3"
  }
 },
 "nbformat": 4,
 "nbformat_minor": 2
}
